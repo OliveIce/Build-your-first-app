{
 "metadata": {
  "language_info": {
   "codemirror_mode": {
    "name": "ipython",
    "version": 3
   },
   "file_extension": ".py",
   "mimetype": "text/x-python",
   "name": "python",
   "nbconvert_exporter": "python",
   "pygments_lexer": "ipython3",
   "version": "3.9.0-final"
  },
  "orig_nbformat": 2,
  "kernelspec": {
   "name": "python3",
   "display_name": "Python 3.9.0 64-bit ('app')",
   "metadata": {
    "interpreter": {
     "hash": "eae984d706412521d759594019c5a62c4ce5494f1bcee206263497245ad5b67f"
    }
   }
  }
 },
 "nbformat": 4,
 "nbformat_minor": 2,
 "cells": [
  {
   "source": [
    "# Building Android Apps With Python: Lesson 3"
   ],
   "cell_type": "markdown",
   "metadata": {}
  },
  {
   "source": [
    "In the previous lessons, we learned how Kivy and Kivymd make it super easy to develop apps using Python. \n",
    "\n",
    "We have covered:\n",
    "\n",
    "- The basics of app development, how to display text, take input, and use buttons to make our app interactive. \n",
    "- Various UI/UIX elements that are supported by Kivy and how they can be easily implemented using Kivy String Builders, written in a hierarchical format that don't require any explicit import statements. \n",
    "\n",
    "If you haven’t read the previous lessons, is important you have a look at them for better understanding before continuing with this final lesson. "
   ],
   "cell_type": "markdown",
   "metadata": {}
  },
  {
   "source": [
    "In this last lesson, we will cover all the remaining frequently used (and a bit more difficult) elements in Kivymd."
   ],
   "cell_type": "markdown",
   "metadata": {}
  },
  {
   "source": [
    "### MDDialog\n",
    "\n",
    "Last time we built a basic app that takes a password as input, compares it with our keyword “root” and displays success or failure message but as text on the screen. What if a dialog box pops up which not only displays the result of the action but gives more options if applicable? This type of function can be made with the help of `MDDialog`. Let’s look at its implementation:"
   ],
   "cell_type": "markdown",
   "metadata": {}
  },
  {
   "cell_type": "code",
   "execution_count": null,
   "metadata": {},
   "outputs": [],
   "source": [
    "%%writefile auth_with_dialog.py\n",
    "\n",
    "from kivymd.app import MDApp\n",
    "from kivy.lang import Builder\n",
    "from kivy.properties import ObjectProperty\n",
    "from kivymd.uix.dialog import MDDialog\n",
    "from kivymd.uix.button import MDFlatButton\n",
    "\n",
    "kv = '''\n",
    "Screen:\n",
    "    in_class: text\n",
    "\n",
    "    MDLabel:\n",
    "        text: 'Basic Authentication App'\n",
    "        font_style: 'H2'\n",
    "        pos_hint: {'center_x': 0.6, 'center_y': 0.8}\n",
    "\n",
    "    MDTextField:\n",
    "        id: text\n",
    "        hint_text: 'Enter you password'\n",
    "        helper_text: 'Forgot your password?'\n",
    "        helper_text_mode: \"on_focus\" \n",
    "        pos_hint: {'center_x': 0.5, 'center_y': 0.4}\n",
    "        size_hint_x: None\n",
    "        width: 300\n",
    "        icon_right: \"account-search\"\n",
    "        required: True\n",
    "\n",
    "    MDRectangleFlatButton:\n",
    "        text: 'Submit'\n",
    "        pos_hint: {'center_x': 0.5, 'center_y': 0.3}\n",
    "        on_press:\n",
    "            app.auth()\n",
    "    \n",
    "    MDLabel:\n",
    "        text: ''\n",
    "        id: show\n",
    "        pos_hint: {'center_x': 1.0, 'center_y': 0.2}\n",
    "'''\n",
    "\n",
    "\n",
    "class Main(MDApp):\n",
    "    in_class = ObjectProperty(None)\n",
    "\n",
    "    def build(self):\n",
    "        return Builder.load_string(kv)\n",
    "\n",
    "    def auth(self):\n",
    "        if self.root.in_class.text == 'root':\n",
    "            # label = self.root.ids.show\n",
    "            # label.text = \"Sucess\"\n",
    "            self.dialog = MDDialog(title='Password check',\n",
    "                                   text=\"Sucess !\", size_hint=(0.8, 1),\n",
    "                                   buttons=[MDFlatButton(text='Close', on_release=self.close_dialog),\n",
    "                                            MDFlatButton(text='More')]\n",
    "                                   )\n",
    "            self.dialog.open()\n",
    "        else:\n",
    "            # label = self.root.ids.show\n",
    "            # label.text = \"Fail\"\n",
    "            self.dialog.text = 'Fail !'\n",
    "            self.dialog.open()\n",
    "\n",
    "    def close_dialog(self, obj):\n",
    "        self.dialog.dismiss()\n",
    "\n",
    "\n",
    "Main().run()"
   ]
  },
  {
   "cell_type": "code",
   "execution_count": null,
   "metadata": {},
   "outputs": [],
   "source": [
    "!python auth_with_dialog.py"
   ]
  }
 ]
}